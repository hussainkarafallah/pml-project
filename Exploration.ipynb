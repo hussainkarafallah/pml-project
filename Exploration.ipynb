{
 "cells": [
  {
   "cell_type": "code",
   "execution_count": 1,
   "id": "adjustable-luther",
   "metadata": {
    "scrolled": true
   },
   "outputs": [],
   "source": [
    "import numpy as np\n",
    "import pandas as pd\n",
    "import networkx as nx\n",
    "pd.set_option('display.max_columns' , 40)"
   ]
  },
  {
   "cell_type": "code",
   "execution_count": 2,
   "id": "promotional-information",
   "metadata": {},
   "outputs": [],
   "source": [
    "graph_file = \"./data/users_clean.graphml\"\n",
    "csv_file = \"./data/users_neighborhood_anon.csv\""
   ]
  },
  {
   "cell_type": "code",
   "execution_count": 3,
   "id": "efficient-separate",
   "metadata": {},
   "outputs": [],
   "source": [
    "from networkx.readwrite.graphml import read_graphml\n",
    "graph = read_graphml(graph_file)\n",
    "\n",
    "# read a list of the features\n",
    "csv_columns = pd.read_csv(csv_file, nrows=5).columns"
   ]
  },
  {
   "cell_type": "code",
   "execution_count": 4,
   "id": "british-cause",
   "metadata": {},
   "outputs": [
    {
     "data": {
      "text/plain": [
       "Index(['user_id', 'hate', 'hate_neigh', 'normal_neigh', 'statuses_count',\n",
       "       'followers_count', 'followees_count', 'favorites_count', 'listed_count',\n",
       "       'betweenness',\n",
       "       ...\n",
       "       'c_feminine_empath', 'c_medieval_empath', 'c_journalism_empath',\n",
       "       'c_farming_empath', 'c_plant_empath', 'c_shopping_empath',\n",
       "       'c_ship_empath', 'c_religion_empath', 'c_tourism_empath',\n",
       "       'c_power_empath'],\n",
       "      dtype='object', length=1039)"
      ]
     },
     "execution_count": 4,
     "metadata": {},
     "output_type": "execute_result"
    }
   ],
   "source": [
    "csv_columns"
   ]
  },
  {
   "cell_type": "code",
   "execution_count": 5,
   "id": "exclusive-marking",
   "metadata": {},
   "outputs": [
    {
     "data": {
      "text/plain": [
       "['user_id',\n",
       " 'hate',\n",
       " 'hate_neigh',\n",
       " 'normal_neigh',\n",
       " 'statuses_count',\n",
       " 'followers_count',\n",
       " 'followees_count',\n",
       " 'favorites_count',\n",
       " 'listed_count',\n",
       " 'betweenness',\n",
       " 'eigenvector',\n",
       " 'in_degree',\n",
       " 'out_degree',\n",
       " 'sentiment',\n",
       " 'subjectivity',\n",
       " 'number hashtags',\n",
       " 'hashtags',\n",
       " 'tweet number',\n",
       " 'retweet number',\n",
       " 'quote number',\n",
       " 'status length',\n",
       " 'number urls',\n",
       " 'baddies',\n",
       " 'mentions',\n",
       " 'is_50',\n",
       " 'is_63',\n",
       " 'is_50_2',\n",
       " 'is_63_2',\n",
       " 'time_diff',\n",
       " 'time_diff_median',\n",
       " 'created_at']"
      ]
     },
     "execution_count": 5,
     "metadata": {},
     "output_type": "execute_result"
    }
   ],
   "source": [
    "# take a list of only characterestic features (drop glove .. etc for now)\n",
    "chfts = []\n",
    "for x in csv_columns:\n",
    "    if not (\"glove\" in x or \"empath\" in x or \"c_\" in x ):\n",
    "        chfts.append(x)\n",
    "chfts"
   ]
  },
  {
   "cell_type": "code",
   "execution_count": null,
   "id": "cheap-australia",
   "metadata": {},
   "outputs": [],
   "source": [
    "reader = pd.read_table(csv_file, sep=',', chunksize=100000, header=0, names=csv_columns)\n",
    "chunks = [chunk[chfts] for chunk in reader]\n",
    "chdf = pd.concat(chunks , axis = 0)\n",
    "chdf.head()"
   ]
  },
  {
   "cell_type": "code",
   "execution_count": null,
   "id": "united-validation",
   "metadata": {},
   "outputs": [],
   "source": [
    "all_users = chdf['user_id'].unique()\n",
    "normal_users = chdf[chdf['hate'] == 'normal']['user_id'].unique()\n",
    "hateful_users = chdf[chdf['hate'] == 'hateful']['user_id'].unique()"
   ]
  },
  {
   "cell_type": "markdown",
   "id": "broad-aquatic",
   "metadata": {},
   "source": [
    "## Clustering Coefficients"
   ]
  },
  {
   "cell_type": "code",
   "execution_count": null,
   "id": "lesbian-local",
   "metadata": {},
   "outputs": [],
   "source": [
    "clustering_coefficients = nx.algorithms.cluster.clustering(graph)"
   ]
  },
  {
   "cell_type": "code",
   "execution_count": null,
   "id": "inappropriate-rescue",
   "metadata": {},
   "outputs": [],
   "source": [
    "all_coefs = list(clustering_coefficients.values())\n",
    "normal_coefs = [clustering_coefficients[str(x)] for x in normal_users]\n",
    "hateful_coefs = [clustering_coefficients[str(x)] for x in hateful_users]\n",
    "\n",
    "print(\"Clustering coefficient for the whole graph: mean = {} , std = {}\".format(np.mean(all_coefs) , np.std(all_coefs)))\n",
    "print(\"Clustering coefficient for normal users: mean = {} , std = {}\".format(np.mean(normal_coefs) , np.std(normal_coefs)))\n",
    "print(\"Clustering coefficient for hateful users: mean = {} , std = {}\".format(np.mean(hateful_coefs) , np.std(hateful_coefs)))"
   ]
  },
  {
   "cell_type": "markdown",
   "id": "direct-proposal",
   "metadata": {},
   "source": [
    "## Degree Distribution"
   ]
  },
  {
   "cell_type": "code",
   "execution_count": null,
   "id": "preceding-kansas",
   "metadata": {},
   "outputs": [],
   "source": [
    "degree_view = graph.in_degree\n",
    "all_degrees = [degree_view[str(x)] for x in all_users]\n",
    "normal_degrees = [degree_view[str(x)] for x in normal_users]\n",
    "hateful_degrees = [degree_view[str(x)] for x in hateful_users]\n",
    "\n",
    "print(\"For all users average in degree = {} and std = {}\".format(np.mean(all_degrees) , np.std(all_degrees)))\n",
    "print(\"For normal users average in degree = {} and std = {}\".format(np.mean(normal_degrees) , np.std(normal_degrees)))\n",
    "print(\"For hateful users average in degree = {} and std = {}\".format(np.mean(hateful_degrees) , np.std(hateful_degrees)))"
   ]
  },
  {
   "cell_type": "code",
   "execution_count": null,
   "id": "nuclear-advance",
   "metadata": {},
   "outputs": [],
   "source": [
    "degree_view = graph.out_degree\n",
    "all_degrees = [degree_view[str(x)] for x in all_users]\n",
    "normal_degrees = [degree_view[str(x)] for x in normal_users]\n",
    "hateful_degrees = [degree_view[str(x)] for x in hateful_users]\n",
    "\n",
    "print(\"For all users average out degree = {} and std = {}\".format(np.mean(all_degrees) , np.std(all_degrees)))\n",
    "print(\"For normal users average out degree = {} and std = {}\".format(np.mean(normal_degrees) , np.std(normal_degrees)))\n",
    "print(\"For hateful users average out degree = {} and std = {}\".format(np.mean(hateful_degrees) , np.std(hateful_degrees)))"
   ]
  },
  {
   "cell_type": "markdown",
   "id": "impressive-applicant",
   "metadata": {},
   "source": [
    "## Bidirectional Ratio"
   ]
  },
  {
   "cell_type": "code",
   "execution_count": null,
   "id": "white-bacteria",
   "metadata": {},
   "outputs": [],
   "source": [
    "graph.nodes"
   ]
  },
  {
   "cell_type": "code",
   "execution_count": null,
   "id": "crude-glance",
   "metadata": {},
   "outputs": [],
   "source": [
    "\n",
    "def reciprocity_iter(G, nodes):\n",
    "    ret = []\n",
    "    for node in nodes:\n",
    "        pred = set(G.predecessors(node))\n",
    "        succ = set(G.successors(node))\n",
    "        overlap = pred & succ\n",
    "        n_total = len(pred) + len(succ)\n",
    "\n",
    "        if n_total == 0:\n",
    "            ret.append(0)\n",
    "        else:\n",
    "            ret.append(len(overlap))\n",
    "    return ret\n",
    "            \n",
    "biratio = reciprocity(graph , map(str , all_users))\n",
    "all_biratio = [biratio[str(x)] for x in all_users]\n",
    "normal_biratio = [biratio[str(x)] for x in normal_users]\n",
    "hateful_biratio = [biratio[str(x)] for x in hateful_users]\n",
    "\n",
    "print(\"For all users average biratio = {} \".format(np.mean(all_biratio)))\n",
    "print(\"For normal users average biratio = {} \".format(np.mean(normal_biratio)))\n",
    "print(\"For hateful users average biratio = {} \".format(np.mean(hateful_biratio)))"
   ]
  }
 ],
 "metadata": {
  "kernelspec": {
   "display_name": "Python 3",
   "language": "python",
   "name": "python3"
  },
  "language_info": {
   "codemirror_mode": {
    "name": "ipython",
    "version": 3
   },
   "file_extension": ".py",
   "mimetype": "text/x-python",
   "name": "python",
   "nbconvert_exporter": "python",
   "pygments_lexer": "ipython3",
   "version": "3.9.1"
  }
 },
 "nbformat": 4,
 "nbformat_minor": 5
}
