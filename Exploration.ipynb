{
 "cells": [
  {
   "cell_type": "code",
   "execution_count": 1,
   "id": "adjustable-luther",
   "metadata": {
    "scrolled": true
   },
   "outputs": [],
   "source": [
    "import numpy as np\n",
    "import pandas as pd\n",
    "import networkx as nx\n",
    "pd.set_option('display.max_columns' , 40)"
   ]
  },
  {
   "cell_type": "code",
   "execution_count": 2,
   "id": "promotional-information",
   "metadata": {},
   "outputs": [],
   "source": [
    "graph_file = \"./data/users_clean.graphml\"\n",
    "csv_file = \"./data/users_neighborhood_anon.csv\""
   ]
  },
  {
   "cell_type": "code",
   "execution_count": 3,
   "id": "efficient-separate",
   "metadata": {},
   "outputs": [],
   "source": [
    "from networkx.readwrite.graphml import read_graphml\n",
    "graph = read_graphml(graph_file)\n",
    "\n",
    "# read a list of the features\n",
    "csv_columns = pd.read_csv(csv_file, nrows=5).columns"
   ]
  },
  {
   "cell_type": "code",
   "execution_count": 4,
   "id": "british-cause",
   "metadata": {},
   "outputs": [
    {
     "data": {
      "text/plain": [
       "Index(['user_id', 'hate', 'hate_neigh', 'normal_neigh', 'statuses_count',\n",
       "       'followers_count', 'followees_count', 'favorites_count', 'listed_count',\n",
       "       'betweenness',\n",
       "       ...\n",
       "       'c_feminine_empath', 'c_medieval_empath', 'c_journalism_empath',\n",
       "       'c_farming_empath', 'c_plant_empath', 'c_shopping_empath',\n",
       "       'c_ship_empath', 'c_religion_empath', 'c_tourism_empath',\n",
       "       'c_power_empath'],\n",
       "      dtype='object', length=1039)"
      ]
     },
     "execution_count": 4,
     "metadata": {},
     "output_type": "execute_result"
    }
   ],
   "source": [
    "csv_columns"
   ]
  },
  {
   "cell_type": "code",
   "execution_count": 5,
   "id": "exclusive-marking",
   "metadata": {},
   "outputs": [
    {
     "data": {
      "text/plain": [
       "['user_id',\n",
       " 'hate',\n",
       " 'hate_neigh',\n",
       " 'normal_neigh',\n",
       " 'statuses_count',\n",
       " 'followers_count',\n",
       " 'followees_count',\n",
       " 'favorites_count',\n",
       " 'listed_count',\n",
       " 'betweenness',\n",
       " 'eigenvector',\n",
       " 'in_degree',\n",
       " 'out_degree',\n",
       " 'sentiment',\n",
       " 'subjectivity',\n",
       " 'number hashtags',\n",
       " 'hashtags',\n",
       " 'tweet number',\n",
       " 'retweet number',\n",
       " 'quote number',\n",
       " 'status length',\n",
       " 'number urls',\n",
       " 'baddies',\n",
       " 'mentions',\n",
       " 'is_50',\n",
       " 'is_63',\n",
       " 'is_50_2',\n",
       " 'is_63_2',\n",
       " 'time_diff',\n",
       " 'time_diff_median',\n",
       " 'created_at']"
      ]
     },
     "execution_count": 5,
     "metadata": {},
     "output_type": "execute_result"
    }
   ],
   "source": [
    "# take a list of only characterestic features (drop glove .. etc for now)\n",
    "chfts = []\n",
    "for x in csv_columns:\n",
    "    if not (\"glove\" in x or \"empath\" in x or \"c_\" in x ):\n",
    "        chfts.append(x)\n",
    "chfts"
   ]
  },
  {
   "cell_type": "code",
   "execution_count": 6,
   "id": "cheap-australia",
   "metadata": {},
   "outputs": [
    {
     "data": {
      "text/html": [
       "<div>\n",
       "<style scoped>\n",
       "    .dataframe tbody tr th:only-of-type {\n",
       "        vertical-align: middle;\n",
       "    }\n",
       "\n",
       "    .dataframe tbody tr th {\n",
       "        vertical-align: top;\n",
       "    }\n",
       "\n",
       "    .dataframe thead th {\n",
       "        text-align: right;\n",
       "    }\n",
       "</style>\n",
       "<table border=\"1\" class=\"dataframe\">\n",
       "  <thead>\n",
       "    <tr style=\"text-align: right;\">\n",
       "      <th></th>\n",
       "      <th>user_id</th>\n",
       "      <th>hate</th>\n",
       "      <th>hate_neigh</th>\n",
       "      <th>normal_neigh</th>\n",
       "      <th>statuses_count</th>\n",
       "      <th>followers_count</th>\n",
       "      <th>followees_count</th>\n",
       "      <th>favorites_count</th>\n",
       "      <th>listed_count</th>\n",
       "      <th>betweenness</th>\n",
       "      <th>eigenvector</th>\n",
       "      <th>in_degree</th>\n",
       "      <th>out_degree</th>\n",
       "      <th>sentiment</th>\n",
       "      <th>subjectivity</th>\n",
       "      <th>number hashtags</th>\n",
       "      <th>hashtags</th>\n",
       "      <th>tweet number</th>\n",
       "      <th>retweet number</th>\n",
       "      <th>quote number</th>\n",
       "      <th>status length</th>\n",
       "      <th>number urls</th>\n",
       "      <th>baddies</th>\n",
       "      <th>mentions</th>\n",
       "      <th>is_50</th>\n",
       "      <th>is_63</th>\n",
       "      <th>is_50_2</th>\n",
       "      <th>is_63_2</th>\n",
       "      <th>time_diff</th>\n",
       "      <th>time_diff_median</th>\n",
       "      <th>created_at</th>\n",
       "    </tr>\n",
       "  </thead>\n",
       "  <tbody>\n",
       "    <tr>\n",
       "      <th>0</th>\n",
       "      <td>0</td>\n",
       "      <td>normal</td>\n",
       "      <td>True</td>\n",
       "      <td>True</td>\n",
       "      <td>101767</td>\n",
       "      <td>3504</td>\n",
       "      <td>3673</td>\n",
       "      <td>81635</td>\n",
       "      <td>53</td>\n",
       "      <td>100467.895084</td>\n",
       "      <td>7.413433e-09</td>\n",
       "      <td>0.000139</td>\n",
       "      <td>0.00012</td>\n",
       "      <td>0.035132</td>\n",
       "      <td>0.431656</td>\n",
       "      <td>16.0</td>\n",
       "      <td>鷺沢文香生誕祭2017 鷺沢文香生誕祭 pixiv アイドル idol グラビア RT希望 ...</td>\n",
       "      <td>121.0</td>\n",
       "      <td>79.0</td>\n",
       "      <td>5.0</td>\n",
       "      <td>75.565000</td>\n",
       "      <td>82.0</td>\n",
       "      <td>18.0</td>\n",
       "      <td>159.0</td>\n",
       "      <td>False</td>\n",
       "      <td>False</td>\n",
       "      <td>False</td>\n",
       "      <td>False</td>\n",
       "      <td>356.020101</td>\n",
       "      <td>74.0</td>\n",
       "      <td>1.241845e+09</td>\n",
       "    </tr>\n",
       "    <tr>\n",
       "      <th>1</th>\n",
       "      <td>1</td>\n",
       "      <td>other</td>\n",
       "      <td>False</td>\n",
       "      <td>False</td>\n",
       "      <td>2352</td>\n",
       "      <td>19609</td>\n",
       "      <td>309</td>\n",
       "      <td>61</td>\n",
       "      <td>197</td>\n",
       "      <td>0.000000</td>\n",
       "      <td>4.929853e-32</td>\n",
       "      <td>0.000010</td>\n",
       "      <td>0.00003</td>\n",
       "      <td>0.088142</td>\n",
       "      <td>0.418649</td>\n",
       "      <td>40.0</td>\n",
       "      <td>nzfirst nzfirst nzfirst hadenough nzfirst hade...</td>\n",
       "      <td>199.0</td>\n",
       "      <td>0.0</td>\n",
       "      <td>0.0</td>\n",
       "      <td>101.713568</td>\n",
       "      <td>20.0</td>\n",
       "      <td>10.0</td>\n",
       "      <td>6.0</td>\n",
       "      <td>False</td>\n",
       "      <td>False</td>\n",
       "      <td>False</td>\n",
       "      <td>False</td>\n",
       "      <td>17519.116162</td>\n",
       "      <td>45.0</td>\n",
       "      <td>1.312262e+09</td>\n",
       "    </tr>\n",
       "    <tr>\n",
       "      <th>2</th>\n",
       "      <td>2</td>\n",
       "      <td>other</td>\n",
       "      <td>False</td>\n",
       "      <td>False</td>\n",
       "      <td>1044</td>\n",
       "      <td>2371</td>\n",
       "      <td>2246</td>\n",
       "      <td>561</td>\n",
       "      <td>16</td>\n",
       "      <td>4897.117853</td>\n",
       "      <td>6.876258e-12</td>\n",
       "      <td>0.000050</td>\n",
       "      <td>0.00003</td>\n",
       "      <td>0.117861</td>\n",
       "      <td>0.455828</td>\n",
       "      <td>328.0</td>\n",
       "      <td>Firefighter mentalhealth PTSD Wellness Fire me...</td>\n",
       "      <td>113.0</td>\n",
       "      <td>87.0</td>\n",
       "      <td>0.0</td>\n",
       "      <td>128.130000</td>\n",
       "      <td>219.0</td>\n",
       "      <td>16.0</td>\n",
       "      <td>158.0</td>\n",
       "      <td>False</td>\n",
       "      <td>False</td>\n",
       "      <td>False</td>\n",
       "      <td>False</td>\n",
       "      <td>46417.758794</td>\n",
       "      <td>2010.0</td>\n",
       "      <td>1.445293e+09</td>\n",
       "    </tr>\n",
       "    <tr>\n",
       "      <th>3</th>\n",
       "      <td>3</td>\n",
       "      <td>other</td>\n",
       "      <td>False</td>\n",
       "      <td>False</td>\n",
       "      <td>167172</td>\n",
       "      <td>3004</td>\n",
       "      <td>298</td>\n",
       "      <td>3242</td>\n",
       "      <td>53</td>\n",
       "      <td>9.864754</td>\n",
       "      <td>1.380359e-30</td>\n",
       "      <td>0.000040</td>\n",
       "      <td>0.00002</td>\n",
       "      <td>0.261688</td>\n",
       "      <td>0.558544</td>\n",
       "      <td>127.0</td>\n",
       "      <td>OneMoreChance OneMoreChance Siwon SuperJunior ...</td>\n",
       "      <td>69.0</td>\n",
       "      <td>131.0</td>\n",
       "      <td>3.0</td>\n",
       "      <td>85.760000</td>\n",
       "      <td>149.0</td>\n",
       "      <td>10.0</td>\n",
       "      <td>26.0</td>\n",
       "      <td>False</td>\n",
       "      <td>False</td>\n",
       "      <td>False</td>\n",
       "      <td>False</td>\n",
       "      <td>656.889447</td>\n",
       "      <td>72.0</td>\n",
       "      <td>1.286949e+09</td>\n",
       "    </tr>\n",
       "    <tr>\n",
       "      <th>4</th>\n",
       "      <td>4</td>\n",
       "      <td>other</td>\n",
       "      <td>False</td>\n",
       "      <td>False</td>\n",
       "      <td>1998</td>\n",
       "      <td>17643</td>\n",
       "      <td>19355</td>\n",
       "      <td>485</td>\n",
       "      <td>239</td>\n",
       "      <td>0.000000</td>\n",
       "      <td>4.929853e-32</td>\n",
       "      <td>0.000010</td>\n",
       "      <td>0.00002</td>\n",
       "      <td>0.121533</td>\n",
       "      <td>0.435334</td>\n",
       "      <td>1710.0</td>\n",
       "      <td>Ohio photooftheday nature photography birds mi...</td>\n",
       "      <td>101.0</td>\n",
       "      <td>99.0</td>\n",
       "      <td>0.0</td>\n",
       "      <td>152.175000</td>\n",
       "      <td>198.0</td>\n",
       "      <td>35.0</td>\n",
       "      <td>7.0</td>\n",
       "      <td>False</td>\n",
       "      <td>False</td>\n",
       "      <td>False</td>\n",
       "      <td>False</td>\n",
       "      <td>55991.356784</td>\n",
       "      <td>48197.0</td>\n",
       "      <td>1.408504e+09</td>\n",
       "    </tr>\n",
       "  </tbody>\n",
       "</table>\n",
       "</div>"
      ],
      "text/plain": [
       "   user_id    hate  hate_neigh  normal_neigh  statuses_count  followers_count  \\\n",
       "0        0  normal        True          True          101767             3504   \n",
       "1        1   other       False         False            2352            19609   \n",
       "2        2   other       False         False            1044             2371   \n",
       "3        3   other       False         False          167172             3004   \n",
       "4        4   other       False         False            1998            17643   \n",
       "\n",
       "   followees_count  favorites_count  listed_count    betweenness  \\\n",
       "0             3673            81635            53  100467.895084   \n",
       "1              309               61           197       0.000000   \n",
       "2             2246              561            16    4897.117853   \n",
       "3              298             3242            53       9.864754   \n",
       "4            19355              485           239       0.000000   \n",
       "\n",
       "    eigenvector  in_degree  out_degree  sentiment  subjectivity  \\\n",
       "0  7.413433e-09   0.000139     0.00012   0.035132      0.431656   \n",
       "1  4.929853e-32   0.000010     0.00003   0.088142      0.418649   \n",
       "2  6.876258e-12   0.000050     0.00003   0.117861      0.455828   \n",
       "3  1.380359e-30   0.000040     0.00002   0.261688      0.558544   \n",
       "4  4.929853e-32   0.000010     0.00002   0.121533      0.435334   \n",
       "\n",
       "   number hashtags                                           hashtags  \\\n",
       "0             16.0  鷺沢文香生誕祭2017 鷺沢文香生誕祭 pixiv アイドル idol グラビア RT希望 ...   \n",
       "1             40.0  nzfirst nzfirst nzfirst hadenough nzfirst hade...   \n",
       "2            328.0  Firefighter mentalhealth PTSD Wellness Fire me...   \n",
       "3            127.0  OneMoreChance OneMoreChance Siwon SuperJunior ...   \n",
       "4           1710.0  Ohio photooftheday nature photography birds mi...   \n",
       "\n",
       "   tweet number  retweet number  quote number  status length  number urls  \\\n",
       "0         121.0            79.0           5.0      75.565000         82.0   \n",
       "1         199.0             0.0           0.0     101.713568         20.0   \n",
       "2         113.0            87.0           0.0     128.130000        219.0   \n",
       "3          69.0           131.0           3.0      85.760000        149.0   \n",
       "4         101.0            99.0           0.0     152.175000        198.0   \n",
       "\n",
       "   baddies  mentions  is_50  is_63  is_50_2  is_63_2     time_diff  \\\n",
       "0     18.0     159.0  False  False    False    False    356.020101   \n",
       "1     10.0       6.0  False  False    False    False  17519.116162   \n",
       "2     16.0     158.0  False  False    False    False  46417.758794   \n",
       "3     10.0      26.0  False  False    False    False    656.889447   \n",
       "4     35.0       7.0  False  False    False    False  55991.356784   \n",
       "\n",
       "   time_diff_median    created_at  \n",
       "0              74.0  1.241845e+09  \n",
       "1              45.0  1.312262e+09  \n",
       "2            2010.0  1.445293e+09  \n",
       "3              72.0  1.286949e+09  \n",
       "4           48197.0  1.408504e+09  "
      ]
     },
     "execution_count": 6,
     "metadata": {},
     "output_type": "execute_result"
    }
   ],
   "source": [
    "reader = pd.read_table(csv_file, sep=',', chunksize=100000, header=0, names=csv_columns)\n",
    "chunks = [chunk[chfts] for chunk in reader]\n",
    "chdf = pd.concat(chunks , axis = 0)\n",
    "chdf.head()"
   ]
  },
  {
   "cell_type": "code",
   "execution_count": 7,
   "id": "united-validation",
   "metadata": {},
   "outputs": [],
   "source": [
    "all_users = chdf['user_id'].unique()\n",
    "normal_users = chdf[chdf['hate'] == 'normal']['user_id'].unique()\n",
    "hateful_users = chdf[chdf['hate'] == 'hateful']['user_id'].unique()"
   ]
  },
  {
   "cell_type": "markdown",
   "id": "broad-aquatic",
   "metadata": {},
   "source": [
    "## Clustering Coefficients"
   ]
  },
  {
   "cell_type": "code",
   "execution_count": 8,
   "id": "lesbian-local",
   "metadata": {},
   "outputs": [],
   "source": [
    "clustering_coefficients = nx.algorithms.cluster.clustering(graph)"
   ]
  },
  {
   "cell_type": "code",
   "execution_count": 9,
   "id": "inappropriate-rescue",
   "metadata": {},
   "outputs": [
    {
     "name": "stdout",
     "output_type": "stream",
     "text": [
      "Clustering coefficient for the whole graph: mean = 0.05665756186782108 , std = 0.09189662387862936\n",
      "Clustering coefficient for normal users: mean = 0.05323155415618325 , std = 0.09330204104980355\n",
      "Clustering coefficient for hateful users: mean = 0.07092943943828832 , std = 0.057711775285799786\n"
     ]
    }
   ],
   "source": [
    "all_coefs = list(clustering_coefficients.values())\n",
    "normal_coefs = [clustering_coefficients[str(x)] for x in normal_users]\n",
    "hateful_coefs = [clustering_coefficients[str(x)] for x in hateful_users]\n",
    "\n",
    "print(\"Clustering coefficient for the whole graph: mean = {} , std = {}\".format(np.mean(all_coefs) , np.std(all_coefs)))\n",
    "print(\"Clustering coefficient for normal users: mean = {} , std = {}\".format(np.mean(normal_coefs) , np.std(normal_coefs)))\n",
    "print(\"Clustering coefficient for hateful users: mean = {} , std = {}\".format(np.mean(hateful_coefs) , np.std(hateful_coefs)))"
   ]
  },
  {
   "cell_type": "markdown",
   "id": "direct-proposal",
   "metadata": {},
   "source": [
    "## Degree Distribution"
   ]
  },
  {
   "cell_type": "code",
   "execution_count": 10,
   "id": "preceding-kansas",
   "metadata": {},
   "outputs": [
    {
     "name": "stdout",
     "output_type": "stream",
     "text": [
      "For all users average in degree = 22.777996931843084 and std = 23.047098581157965\n",
      "For normal users average in degree = 25.350576010842556 and std = 24.3193306030999\n",
      "For hateful users average in degree = 30.455882352941178 and std = 22.866899931052032\n"
     ]
    }
   ],
   "source": [
    "degree_view = graph.in_degree\n",
    "all_degrees = [degree_view[str(x)] for x in all_users]\n",
    "normal_degrees = [degree_view[str(x)] for x in normal_users]\n",
    "hateful_degrees = [degree_view[str(x)] for x in hateful_users]\n",
    "\n",
    "print(\"For all users average in degree = {} and std = {}\".format(np.mean(all_degrees) , np.std(all_degrees)))\n",
    "print(\"For normal users average in degree = {} and std = {}\".format(np.mean(normal_degrees) , np.std(normal_degrees)))\n",
    "print(\"For hateful users average in degree = {} and std = {}\".format(np.mean(hateful_degrees) , np.std(hateful_degrees)))"
   ]
  },
  {
   "cell_type": "code",
   "execution_count": 11,
   "id": "nuclear-advance",
   "metadata": {},
   "outputs": [
    {
     "name": "stdout",
     "output_type": "stream",
     "text": [
      "For all users average out degree = 22.777996931843084 and std = 69.74444204250517\n",
      "For normal users average out degree = 12.234922069121302 and std = 41.89660404556361\n",
      "For hateful users average out degree = 16.74448529411765 and std = 33.08810329834783\n"
     ]
    }
   ],
   "source": [
    "degree_view = graph.out_degree\n",
    "all_degrees = [degree_view[str(x)] for x in all_users]\n",
    "normal_degrees = [degree_view[str(x)] for x in normal_users]\n",
    "hateful_degrees = [degree_view[str(x)] for x in hateful_users]\n",
    "\n",
    "print(\"For all users average out degree = {} and std = {}\".format(np.mean(all_degrees) , np.std(all_degrees)))\n",
    "print(\"For normal users average out degree = {} and std = {}\".format(np.mean(normal_degrees) , np.std(normal_degrees)))\n",
    "print(\"For hateful users average out degree = {} and std = {}\".format(np.mean(hateful_degrees) , np.std(hateful_degrees)))"
   ]
  },
  {
   "cell_type": "markdown",
   "id": "impressive-applicant",
   "metadata": {},
   "source": [
    "## Bidirectional Ratio"
   ]
  },
  {
   "cell_type": "code",
   "execution_count": 17,
   "id": "crude-glance",
   "metadata": {},
   "outputs": [
    {
     "name": "stdout",
     "output_type": "stream",
     "text": [
      "For all users average bidirectional neighbours = 2.8252146713685176 \n",
      "For normal users average bidirectional neighbours = 2.200587305172803 \n",
      "For hateful users average bidirectional neighbours = 2.693014705882353 \n"
     ]
    }
   ],
   "source": [
    "\n",
    "def reciprocity(G, nodes):\n",
    "    ret = []\n",
    "    for node in nodes:\n",
    "        pred = set(G.predecessors(node))\n",
    "        succ = set(G.successors(node))\n",
    "        overlap = pred & succ\n",
    "        n_total = len(pred) + len(succ)\n",
    "\n",
    "        if n_total == 0:\n",
    "            ret.append((node,0))\n",
    "        else:\n",
    "            ret.append((node ,len(overlap)))\n",
    "                       \n",
    "    return dict(ret)\n",
    "            \n",
    "biratio = reciprocity(graph , map(str , all_users))\n",
    "all_biratio = [biratio[str(x)] for x in all_users]\n",
    "normal_biratio = [biratio[str(x)] for x in normal_users]\n",
    "hateful_biratio = [biratio[str(x)] for x in hateful_users]\n",
    "\n",
    "print(\"For all users average bidirectional neighbours = {} \".format(np.mean(all_biratio)))\n",
    "print(\"For normal users average bidirectional neighbours = {} \".format(np.mean(normal_biratio)))\n",
    "print(\"For hateful users average bidirectional neighbours = {} \".format(np.mean(hateful_biratio)))"
   ]
  }
 ],
 "metadata": {
  "kernelspec": {
   "display_name": "Python 3",
   "language": "python",
   "name": "python3"
  },
  "language_info": {
   "codemirror_mode": {
    "name": "ipython",
    "version": 3
   },
   "file_extension": ".py",
   "mimetype": "text/x-python",
   "name": "python",
   "nbconvert_exporter": "python",
   "pygments_lexer": "ipython3",
   "version": "3.9.1"
  }
 },
 "nbformat": 4,
 "nbformat_minor": 5
}
